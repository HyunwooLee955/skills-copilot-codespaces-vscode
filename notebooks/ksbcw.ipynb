{
 "cells": [
  {
   "cell_type": "code",
   "execution_count": 32,
   "metadata": {},
   "outputs": [],
   "source": [
    "import json\n",
    "\n",
    "import pooch\n",
    "import pandas as pd\n",
    "import xarray as xr"
   ]
  },
  {
   "cell_type": "code",
   "execution_count": 33,
   "metadata": {},
   "outputs": [],
   "source": [
    "key = \"qPwOeIrU-2501-PXXKVD-1011\"\n",
    "sdate = \"19680101\"\n",
    "edate = \"20241231\"\n",
    "url=f\"https://www.nifs.go.kr/OpenAPI_json?id=sooList&key={key}&sdate={sdate}&edate={edate}\"\n"
   ]
  },
  {
   "cell_type": "code",
   "execution_count": 34,
   "metadata": {},
   "outputs": [],
   "source": [
    "fname_soo = pooch.retrieve(\n",
    "    url=url,\n",
    "    known_hash=None,\n",
    ")\n"
   ]
  },
  {
   "cell_type": "code",
   "execution_count": 35,
   "metadata": {},
   "outputs": [],
   "source": [
    "with open(fname_soo, \"r\", encoding=\"euc-kr\") as file:\n",
    "    raw_soo = json.load(file)"
   ]
  },
  {
   "cell_type": "code",
   "execution_count": 36,
   "metadata": {},
   "outputs": [],
   "source": [
    "data_soo = pd.DataFrame(raw_soo[\"body\"][\"item\"])"
   ]
  },
  {
   "cell_type": "code",
   "execution_count": 37,
   "metadata": {},
   "outputs": [],
   "source": [
    "data_soo[\"obs_dtm\"] = pd.to_datetime(data_soo[\"obs_dtm\"])"
   ]
  },
  {
   "cell_type": "code",
   "execution_count": 38,
   "metadata": {},
   "outputs": [
    {
     "data": {
      "text/plain": [
       "Index(['nut_no3_n', 'sln_cde', 'lon', 'wtr_trn', 'wtr_tmp', 'nut_no2_n',\n",
       "       'gru_nam', 'res_vsl_nm', 'nut_sio2_si', 'wtr_dep', 'dox', 'sta_cde',\n",
       "       'qc_wtr', 'qc_sal', 'obs_dtm', 'sal', 'atm', 'nut_ph', 'qc_dox',\n",
       "       'nut_po4_p', 'lat'],\n",
       "      dtype='object')"
      ]
     },
     "execution_count": 38,
     "metadata": {},
     "output_type": "execute_result"
    }
   ],
   "source": [
    "data_soo.columns"
   ]
  },
  {
   "cell_type": "code",
   "execution_count": 39,
   "metadata": {},
   "outputs": [],
   "source": [
    "# xarray Dataset 생성 함수\n",
    "def dataframe_to_xarray(col):\n",
    "    return xr.DataArray(\n",
    "        data_soo[col],\n",
    "        dims=[\"time\"],\n",
    "        coords={\"time\": data_soo[\"obs_dtm\"],\n",
    "                \"x\": (\"time\", data_soo[\"lon\"]),\n",
    "                \"y\": (\"time\", data_soo[\"lat\"]),\n",
    "                \"z\": (\"time\", data_soo[\"wtr_dep\"])}\n",
    "    )\n"
   ]
  },
  {
   "cell_type": "code",
   "execution_count": 40,
   "metadata": {},
   "outputs": [
    {
     "name": "stdout",
     "output_type": "stream",
     "text": [
      "<xarray.Dataset> Size: 2MB\n",
      "Dimensions:      (time: 10342)\n",
      "Coordinates:\n",
      "  * time         (time) datetime64[ns] 83kB 1968-12-18T14:25:00 ... 1968-01-1...\n",
      "    x            (time) object 83kB '125.4167' '125.4167' ... '128.8283'\n",
      "    y            (time) object 83kB '36.925' '36.925' ... '34.3733' '34.3733'\n",
      "    z            (time) object 83kB '0' '10' '20' '30' ... '30' '50' '75' '90'\n",
      "Data variables: (12/20)\n",
      "    nut_no3_n    (time) object 83kB None None None None ... None None None None\n",
      "    sln_cde      (time) object 83kB '307' '307' '307' ... '206' '206' '206'\n",
      "    lon          (time) object 83kB '125.4167' '125.4167' ... '128.8283'\n",
      "    wtr_trn      (time) object 83kB '4.5' '4.5' '4.5' '4.5' ... '13' '13' '13'\n",
      "    wtr_tmp      (time) object 83kB '10.3' '10.84' '10.58' ... '10.98' '10.52'\n",
      "    nut_no2_n    (time) object 83kB None None None None ... None None None None\n",
      "    ...           ...\n",
      "    sal          (time) object 83kB '32.85' '32.79' '32.79' ... None None None\n",
      "    atm          (time) object 83kB '1020' '1020' '1020' ... '1026.1' '1026.1'\n",
      "    nut_ph       (time) object 83kB '8.32' '8.42' '8.4' ... None None None\n",
      "    qc_dox       (time) object 83kB '1' '1' '1' '1' '1' ... '1' '1' '1' '1' '1'\n",
      "    nut_po4_p    (time) object 83kB None None None None ... None None None None\n",
      "    lat          (time) object 83kB '36.925' '36.925' ... '34.3733' '34.3733'\n"
     ]
    }
   ],
   "source": [
    "# xarray Dataset 생성\n",
    "data = xr.Dataset({col: dataframe_to_xarray(col) for col in data_soo.columns if col not in [\"obs_dtm\"]})\n",
    "\n",
    "print(data)"
   ]
  },
  {
   "cell_type": "code",
   "execution_count": null,
   "metadata": {},
   "outputs": [],
   "source": []
  },
  {
   "cell_type": "code",
   "execution_count": null,
   "metadata": {},
   "outputs": [],
   "source": []
  }
 ],
 "metadata": {
  "kernelspec": {
   "display_name": ".venv",
   "language": "python",
   "name": "python3"
  },
  "language_info": {
   "codemirror_mode": {
    "name": "ipython",
    "version": 3
   },
   "file_extension": ".py",
   "mimetype": "text/x-python",
   "name": "python",
   "nbconvert_exporter": "python",
   "pygments_lexer": "ipython3",
   "version": "3.12.3"
  }
 },
 "nbformat": 4,
 "nbformat_minor": 2
}
